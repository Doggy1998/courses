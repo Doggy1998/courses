{
 "cells": [
  {
   "cell_type": "code",
   "execution_count": 1,
   "metadata": {},
   "outputs": [
    {
     "name": "stdout",
     "output_type": "stream",
     "text": [
      "想知道工作幾年有100萬，請輸入預期月薪: 22000\n",
      "請輸入預期月支出: 12000\n",
      "需要 100 年喔\n",
      "\n",
      "想知道工作幾年有100萬，請輸入預期月薪: 不想知道\n",
      "好吧那不吵你了，我要去賺錢了，掰掰\n"
     ]
    }
   ],
   "source": [
    "\n",
    "import math\n",
    "while True:\n",
    "    wage = input(\"想知道工作幾年有100萬，請輸入預期月薪: \")\n",
    "    if \"不\" in wage:\n",
    "        print(\"好吧那不吵你了，我要去賺錢了，掰掰\")\n",
    "        break\n",
    "    else:\n",
    "        wage = float(wage)\n",
    "    cost = float(input(\"請輸入預期月支出: \"))\n",
    "\n",
    "    year = math.ceil(1000000/(wage-cost))\n",
    "    print(\"需要 %d 年喔\\n\" % (year, ))"
   ]
  }
 ],
 "metadata": {
  "kernelspec": {
   "display_name": "Python 3",
   "language": "python",
   "name": "python3"
  },
  "language_info": {
   "codemirror_mode": {
    "name": "ipython",
    "version": 3
   },
   "file_extension": ".py",
   "mimetype": "text/x-python",
   "name": "python",
   "nbconvert_exporter": "python",
   "pygments_lexer": "ipython3",
   "version": "3.6.0"
  }
 },
 "nbformat": 4,
 "nbformat_minor": 2
}
