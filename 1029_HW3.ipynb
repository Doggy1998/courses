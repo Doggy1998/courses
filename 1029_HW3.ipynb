{
 "cells": [
  {
   "cell_type": "code",
   "execution_count": 1,
   "metadata": {},
   "outputs": [
    {
     "name": "stdout",
     "output_type": "stream",
     "text": [
      "星座預測來自 科技紫微 http://astro.click108.com.tw\n",
      "請問你的星座是: 雙子座\n",
      "雙子座的今日星座短評: 做的不如想的好。\n",
      "\n",
      "\n",
      "星座預測來自 科技紫微 http://astro.click108.com.tw\n",
      "請問你的星座是: bye\n",
      "Bye~祝你推甄順利\n"
     ]
    }
   ],
   "source": [
    "import urllib.request\n",
    "\n",
    "zodiac = {\"水瓶座\": 10, \"雙魚座\": 11, \"牡羊座\": 0, \"金牛座\": 1, \"雙子座\": 2, \"巨蟹座\": 3, \"獅子座\": 4, \"處女座\": 5, \"天秤座\": 6, \"天蠍座\": 7, \"射手座\": 8, \"摩羯座\": 9}\n",
    "\n",
    "    \n",
    "def getMsg(num):\n",
    "    page = urllib.request.urlopen(f\"http://astro.click108.com.tw/daily_{num}.php?iAstro={num}\")\n",
    "    mybytes = page.read()\n",
    "\n",
    "    mystr = mybytes.decode(\"utf8\")\n",
    "    page.close()\n",
    "\n",
    "    start = mystr.index('<div class=\"TODAY_WORD\">')\n",
    "    length = len('<div class=\"TODAY_WORD\">')\n",
    "\n",
    "    p = mystr.index(\"<p>\",start)\n",
    "    pEnd = mystr.index(\"</p>\", start)\n",
    "    content = mystr[p+3: pEnd]\n",
    "    print(f\"{sign}的今日星座短評: {content}\")\n",
    "    print(\"\\n\")\n",
    "    \n",
    "    \n",
    "while True:\n",
    "    print(\"星座預測來自 科技紫微 http://astro.click108.com.tw\")\n",
    "    sign = input(\"請問你的星座是: \")\n",
    "\n",
    "    num = zodiac.get(sign)\n",
    "    if num:\n",
    "        getMsg(num)\n",
    "    else:\n",
    "        if sign == \"bye\":\n",
    "            print(\"Bye~祝你推甄順利\")\n",
    "            break\n",
    "        print(\"請輸入正確的星座\")\n",
    "\n"
   ]
  }
 ],
 "metadata": {
  "kernelspec": {
   "display_name": "Python 3",
   "language": "python",
   "name": "python3"
  },
  "language_info": {
   "codemirror_mode": {
    "name": "ipython",
    "version": 3
   },
   "file_extension": ".py",
   "mimetype": "text/x-python",
   "name": "python",
   "nbconvert_exporter": "python",
   "pygments_lexer": "ipython3",
   "version": "3.6.0"
  }
 },
 "nbformat": 4,
 "nbformat_minor": 2
}
