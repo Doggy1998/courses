{
 "cells": [
  {
   "cell_type": "code",
   "execution_count": null,
   "metadata": {},
   "outputs": [],
   "source": [
    "from datetime import datetime\n",
    "now = datetime.now().time()\n",
    "start = datetime.now().time().replace(hour=7, minute=45)\n",
    "end = datetime.now().time().replace(hour=17, minute=15)\n",
    "\n",
    "start2 = datetime.now().time().replace(hour=7, minute=20)\n",
    "end = datetime.now().time().replace(hour=23, minute=0)\n",
    "\n",
    "number = int(input(\"請問你要哪一路公車? \"))\n",
    "if number == 1:\n",
    "    if (now >= start) and (now <= end):\n",
    "\n",
    "        if (now.minute <= 15) or (now.minute >= 45):\n",
    "            print(\"1路公車尖峰時間3~5分鐘乙班\")\n",
    "        else:\n",
    "            print(\"1路公車離峰時間為5~8分鐘乙班\")\n",
    "    else:\n",
    "        print(\"非服務時間\")\n",
    "\n",
    "elif number == 2:\n",
    "    if (now >= start) and (now <= end):\n",
    "        if now.hour >= 20:\n",
    "            print(\"2路每15分鐘乙班\")\n",
    "        elif now.hour >= 19:\n",
    "            print(\"2路每10分鐘乙班\")\n",
    "        elif now.hour >= 18:    \n",
    "            prin(\"2路每7~8分鐘乙班\")\n",
    "        else:\n",
    "            if now.minute > 20:\n",
    "                print(f\"下班車在 {now.hour}:40 發車\")\n",
    "            else:\n",
    "                print(f\"下班車在 {now.hour}:20 發車\")\n",
    "    else:\n",
    "        print(\"非服務時間\")\n",
    "\n",
    "else:\n",
    "    print(\"你只能從 1 2 選一個\")\n"
   ]
  }
 ],
 "metadata": {
  "kernelspec": {
   "display_name": "Python 3",
   "language": "python",
   "name": "python3"
  },
  "language_info": {
   "codemirror_mode": {
    "name": "ipython",
    "version": 3
   },
   "file_extension": ".py",
   "mimetype": "text/x-python",
   "name": "python",
   "nbconvert_exporter": "python",
   "pygments_lexer": "ipython3",
   "version": "3.6.0"
  }
 },
 "nbformat": 4,
 "nbformat_minor": 2
}
