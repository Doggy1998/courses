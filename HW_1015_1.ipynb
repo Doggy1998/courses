{
 "cells": [
  {
   "cell_type": "code",
   "execution_count": 1,
   "metadata": {},
   "outputs": [
    {
     "name": "stdout",
     "output_type": "stream",
     "text": [
      "同學您好，請輸入您的姓名:鄭宇伶\n",
      "請輸入您的系級資管四\n",
      "請輸入您的學號：105306068\n",
      "資管四 鄭宇伶 同學您好，我們要開始測試你的宇伶快樂指數\n",
      "你今天有課嗎?有\n",
      "你今天有睡滿 8 小時嗎?沒有\n",
      "你今天有吃好吃的嗎?沒有\n",
      "你的宇伶快樂指數有 -6 分\n"
     ]
    }
   ],
   "source": [
    "name = input(\"同學您好，請輸入您的姓名:\")\n",
    "department = input(\"請輸入您的系級\")\n",
    "number = input(\"請輸入您的學號：\")\n",
    "score = 0\n",
    "reminder = (\"{} {} 同學您好，我們要開始測試你的宇伶快樂指數\").format(department, name)\n",
    "print(reminder)\n",
    "reminder = \"你今天有課嗎?\"\n",
    "a = input(reminder)\n",
    "if \"沒\" in a:\n",
    "    score = score + 5\n",
    "reminder = \"你今天有睡滿 8 小時嗎?\"\n",
    "a = input(reminder)\n",
    "if \"沒\" in a:\n",
    "    score = score - 2\n",
    "reminder = \"你今天有吃好吃的嗎?\"\n",
    "a = input(reminder)\n",
    "if \"沒\" in a:\n",
    "    score = score - 4\n",
    "    \n",
    "print(f\"你的宇伶快樂指數有 {score} 分\")\n"
   ]
  }
 ],
 "metadata": {
  "kernelspec": {
   "display_name": "Python 3",
   "language": "python",
   "name": "python3"
  },
  "language_info": {
   "codemirror_mode": {
    "name": "ipython",
    "version": 3
   },
   "file_extension": ".py",
   "mimetype": "text/x-python",
   "name": "python",
   "nbconvert_exporter": "python",
   "pygments_lexer": "ipython3",
   "version": "3.6.0"
  }
 },
 "nbformat": 4,
 "nbformat_minor": 2
}
