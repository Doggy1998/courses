{
 "cells": [
  {
   "cell_type": "code",
   "execution_count": 2,
   "metadata": {},
   "outputs": [
    {
     "name": "stdout",
     "output_type": "stream",
     "text": [
      "你覺得鄭宇伶畢業前可以交到男朋友嗎? (Y:會阿~；N:不會!；B:不要再問了~) Y\n",
      "你覺得鄭宇伶畢業前可以交到男朋友嗎? (Y:會阿~；N:不會!；B:不要再問了~) N\n",
      "你覺得鄭宇伶畢業前可以交到男朋友嗎? (Y:會阿~；N:不會!；B:不要再問了~) N\n",
      "你覺得鄭宇伶畢業前可以交到男朋友嗎? (Y:會阿~；N:不會!；B:不要再問了~) N\n",
      "你覺得鄭宇伶畢業前可以交到男朋友嗎? (Y:會阿~；N:不會!；B:不要再問了~) Y\n",
      "你覺得鄭宇伶畢業前可以交到男朋友嗎? (Y:會阿~；N:不會!；B:不要再問了~) B\n",
      "好我不問了\n",
      "有 2 人投鄭宇伶會脫魯~ \n",
      "有 3 人投鄭宇伶會大學魯四年~\n",
      "魯就魯~~反正也魯20年了~~多幾個月也沒差\n"
     ]
    }
   ],
   "source": [
    "yes = 0\n",
    "no = 0\n",
    "\n",
    "while True:\n",
    "    vote = input(\"你覺得鄭宇伶畢業前可以交到男朋友嗎? (Y:會阿~；N:不會!；B:不要再問了~) \")\n",
    "    if vote.isalpha():\n",
    "        if vote.upper() == \"Y\":\n",
    "            yes = yes + 1\n",
    "        elif vote.upper() == \"N\":\n",
    "            no = no + 1\n",
    "        elif vote.upper() == \"B\":\n",
    "            print(f\"好我不問了\\n有 {yes} 人投鄭宇伶會脫魯~ \\n有 {no} 人投鄭宇伶會大學魯四年~\")\n",
    "            if yes > no:\n",
    "                print(\"看來還是比較多人覺得妳有希望交到男朋友的\")\n",
    "            elif yes == no:\n",
    "                print(\"分數難分難捨~~那男朋友呢~~\")\n",
    "            else:\n",
    "                print(\"魯就魯~~反正也魯20年了~~多幾個月也沒差\")\n",
    "            break\n",
    "        else:\n",
    "            print(\"不是阿~你只能回答 Y/ N/ B\")\n",
    "    else:\n",
    "        print(\"不是阿~你只能回答 Y/ N/ B\")"
   ]
  },
  {
   "cell_type": "code",
   "execution_count": null,
   "metadata": {},
   "outputs": [],
   "source": []
  }
 ],
 "metadata": {
  "kernelspec": {
   "display_name": "Python 3",
   "language": "python",
   "name": "python3"
  },
  "language_info": {
   "codemirror_mode": {
    "name": "ipython",
    "version": 3
   },
   "file_extension": ".py",
   "mimetype": "text/x-python",
   "name": "python",
   "nbconvert_exporter": "python",
   "pygments_lexer": "ipython3",
   "version": "3.6.0"
  }
 },
 "nbformat": 4,
 "nbformat_minor": 2
}
