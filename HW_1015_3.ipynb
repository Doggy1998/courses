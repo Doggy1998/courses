{
 "cells": [
  {
   "cell_type": "code",
   "execution_count": 2,
   "metadata": {},
   "outputs": [
    {
     "name": "stdout",
     "output_type": "stream",
     "text": [
      "welcome to Trash Talker\n",
      "Who is your favorite idol? Sehun\n",
      "What do you usually do on weekends? sleep\n",
      "Which subject is your favorite subject? english\n",
      "Where are you now? dorm\n",
      "What is your favorite food? chocolate\n",
      "You dreamed that a cat named Sehun is taking a english class. Suddenly a monster which is tranformed from chocolate is approaching Sehun. You run from dorm to rescue Sehun, but when you got there you find that the big chocolate simply sleep with Sehun, so you just join them! What a weird dream~\n"
     ]
    }
   ],
   "source": [
    "print(\"welcome to Trash Talker\")\n",
    "a = input(\"Who is your favorite idol? \")\n",
    "b = input(\"What do you usually do on weekends? \")\n",
    "c = input(\"Which subject is your favorite subject? \")\n",
    "d = input(\"Where are you now? \")\n",
    "e = input(\"What is your favorite food? \")\n",
    "\n",
    "result = f\"You dreamed that a cat named {a} is taking a {c} class. Suddenly a monster which is tranformed from {e} is approaching {a}. You run from {d} to rescue {a}, but when you got there you find that the big {e} simply {b} with {a}, so you just join them! What a weird dream~\"\n",
    "print(result)"
   ]
  }
 ],
 "metadata": {
  "kernelspec": {
   "display_name": "Python 3",
   "language": "python",
   "name": "python3"
  },
  "language_info": {
   "codemirror_mode": {
    "name": "ipython",
    "version": 3
   },
   "file_extension": ".py",
   "mimetype": "text/x-python",
   "name": "python",
   "nbconvert_exporter": "python",
   "pygments_lexer": "ipython3",
   "version": "3.6.0"
  }
 },
 "nbformat": 4,
 "nbformat_minor": 2
}
