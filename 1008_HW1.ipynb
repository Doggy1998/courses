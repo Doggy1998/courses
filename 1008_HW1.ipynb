{
 "cells": [
  {
   "cell_type": "code",
   "execution_count": null,
   "metadata": {},
   "outputs": [],
   "source": [
    "height = float(input(\"請輸入您的身高: \"))\n",
    "weight = float(input(\"請輸入您的體重: \"))\n",
    "bmi = weight/(height/100)**2\n",
    "if bmi >25:\n",
    "    print(\"您過重了\")\n",
    "    ideal = weight*30\n",
    "    print(\"您每天需攝取\",ideal ,\"大卡\")\n",
    "    \n",
    "    \n",
    "\n",
    "elif bmi <18.5:\n",
    "    print(\"您過輕了\")\n",
    "    ideal = weight*40\n",
    "    print(\"您每天需攝取\",ideal ,\"大卡\")\n",
    "\n",
    "\n",
    "else:\n",
    "    print(\"您剛剛好\")\n",
    "    ideal = weight*35\n",
    "    print(\"您每天需攝取\",ideal ,\"大卡\")\n",
    "\n",
    "ca = float(input(\"請輸入您已經攝取多少大卡: \"))\n",
    "if ca > ideal:\n",
    "    print(\"您今天已超過 \", ca-ideal,\" 大卡\")\n",
    "else:\n",
    "    print(\"您今天尚能攝取的卡路里是 \", ideal-ca,\" 大卡\")\n",
    "\n"
   ]
  }
 ],
 "metadata": {
  "kernelspec": {
   "display_name": "Python 3",
   "language": "python",
   "name": "python3"
  },
  "language_info": {
   "codemirror_mode": {
    "name": "ipython",
    "version": 3
   },
   "file_extension": ".py",
   "mimetype": "text/x-python",
   "name": "python",
   "nbconvert_exporter": "python",
   "pygments_lexer": "ipython3",
   "version": "3.6.0"
  }
 },
 "nbformat": 4,
 "nbformat_minor": 2
}
