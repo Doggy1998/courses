{
 "cells": [
  {
   "cell_type": "code",
   "execution_count": 5,
   "metadata": {},
   "outputs": [
    {
     "name": "stdout",
     "output_type": "stream",
     "text": [
      "你要幾層的聖誕樹? 3\n",
      "              *               \n",
      "             ***              \n",
      "            *****             \n",
      "             ***              \n",
      "           *******            \n",
      "          *********           \n",
      "            *****             \n",
      "         ***********          \n",
      "        *************         \n"
     ]
    }
   ],
   "source": [
    "\n",
    "\n",
    "number = input(\"你要幾層的聖誕樹? \")\n",
    "\n",
    "for i in range(1, int(number)+1):\n",
    "    j = 2*i -1\n",
    "    print('{:^30s}'.format('*'*j))\n",
    "    print('{:^30s}'.format('*'*(j*2+1)))\n",
    "    print('{:^30s}'.format('*'*(j*2+3)))"
   ]
  }
 ],
 "metadata": {
  "kernelspec": {
   "display_name": "Python 3",
   "language": "python",
   "name": "python3"
  },
  "language_info": {
   "codemirror_mode": {
    "name": "ipython",
    "version": 3
   },
   "file_extension": ".py",
   "mimetype": "text/x-python",
   "name": "python",
   "nbconvert_exporter": "python",
   "pygments_lexer": "ipython3",
   "version": "3.6.0"
  }
 },
 "nbformat": 4,
 "nbformat_minor": 2
}
