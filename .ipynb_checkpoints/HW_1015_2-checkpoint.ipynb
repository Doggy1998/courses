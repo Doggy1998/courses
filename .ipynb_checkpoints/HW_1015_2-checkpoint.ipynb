{
 "cells": [
  {
   "cell_type": "code",
   "execution_count": 9,
   "metadata": {},
   "outputs": [
    {
     "name": "stdout",
     "output_type": "stream",
     "text": [
      "Amy chinese: 20 english: 80 \n",
      "Tina math: 40 \n",
      "Mark math: 90 english: 60 \n",
      "Please enter the name, if want to end, enter 'bye' Amy\n",
      "Please enter the subject chinese\n",
      "Please enter the grade 90\n",
      "Amy chinese: 90.0 english: 80 \n",
      "Tina math: 40 \n",
      "Mark math: 90 english: 60 \n",
      "Please enter the name, if want to end, enter 'bye' Tina\n",
      "Please enter the subject english\n",
      "Please enter the grade 80\n",
      "Amy chinese: 90.0 english: 80 \n",
      "Tina math: 40 english: 80.0 \n",
      "Mark math: 90 english: 60 \n",
      "Please enter the name, if want to end, enter 'bye' bye\n",
      "Amy chinese: 90.0 english: 80 \n",
      "Tina math: 40 english: 80.0 \n",
      "Mark math: 90 english: 60 \n"
     ]
    }
   ],
   "source": [
    "classes = {\"Amy\": {\"chinese\": 20, \"english\": 80}, \"Tina\": {\"math\": 40}, \"Mark\": {\"math\": 90, \"english\":60}}\n",
    "def printGrade():\n",
    "    for k, v in classes.items():\n",
    "        a = str(k) + \" \"\n",
    "        for s, g in v.items():\n",
    "            a = a + s + \": \" + str(g) + \" \"\n",
    "        print(a)\n",
    "\n",
    "while True:\n",
    "    printGrade()\n",
    "    name = input(\"Please enter the name, if want to end, enter 'bye' \")\n",
    "    if name == \"bye\":\n",
    "        printGrade()\n",
    "        break\n",
    "    subject = input(\"Please enter the subject \")\n",
    "    grade = input(\"Please enter the grade \")\n",
    "    \n",
    "    classes[name][subject] = float(grade)"
   ]
  }
 ],
 "metadata": {
  "kernelspec": {
   "display_name": "Python 3",
   "language": "python",
   "name": "python3"
  },
  "language_info": {
   "codemirror_mode": {
    "name": "ipython",
    "version": 3
   },
   "file_extension": ".py",
   "mimetype": "text/x-python",
   "name": "python",
   "nbconvert_exporter": "python",
   "pygments_lexer": "ipython3",
   "version": "3.6.0"
  }
 },
 "nbformat": 4,
 "nbformat_minor": 2
}
