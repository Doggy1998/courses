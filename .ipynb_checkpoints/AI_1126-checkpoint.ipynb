{
 "cells": [
  {
   "cell_type": "code",
   "execution_count": 89,
   "metadata": {},
   "outputs": [],
   "source": [
    "%matplotlib inline\n",
    "\n",
    "import numpy as np\n",
    "import matplotlib.pyplot as plt\n",
    "import pandas as pd\n",
    "\n"
   ]
  },
  {
   "cell_type": "code",
   "execution_count": 90,
   "metadata": {},
   "outputs": [],
   "source": [
    "from keras.datasets import imdb"
   ]
  },
  {
   "cell_type": "code",
   "execution_count": 91,
   "metadata": {},
   "outputs": [],
   "source": [
    "(x_train, y_train), (x_test, y_test) = imdb.load_data(num_words=10000)\n",
    "# 取最常用的 10000 個字"
   ]
  },
  {
   "cell_type": "code",
   "execution_count": 4,
   "metadata": {},
   "outputs": [],
   "source": [
    "#　在做情意分析\n",
    "# 不用無限上限"
   ]
  },
  {
   "cell_type": "code",
   "execution_count": 92,
   "metadata": {},
   "outputs": [
    {
     "data": {
      "text/plain": [
       "25000"
      ]
     },
     "execution_count": 92,
     "metadata": {},
     "output_type": "execute_result"
    }
   ],
   "source": [
    "len(x_train)"
   ]
  },
  {
   "cell_type": "code",
   "execution_count": 93,
   "metadata": {},
   "outputs": [
    {
     "data": {
      "text/plain": [
       "[1,\n",
       " 2,\n",
       " 47,\n",
       " 1678,\n",
       " 72,\n",
       " 19,\n",
       " 61,\n",
       " 205,\n",
       " 2,\n",
       " 5,\n",
       " 2,\n",
       " 146,\n",
       " 6,\n",
       " 655,\n",
       " 2212,\n",
       " 1021,\n",
       " 336,\n",
       " 7,\n",
       " 107,\n",
       " 146,\n",
       " 179,\n",
       " 2,\n",
       " 11,\n",
       " 61,\n",
       " 965,\n",
       " 5,\n",
       " 1624,\n",
       " 113,\n",
       " 131,\n",
       " 13,\n",
       " 28,\n",
       " 1460,\n",
       " 39,\n",
       " 61,\n",
       " 501,\n",
       " 15,\n",
       " 13,\n",
       " 361,\n",
       " 2,\n",
       " 8,\n",
       " 2,\n",
       " 5,\n",
       " 1341,\n",
       " 39,\n",
       " 63,\n",
       " 13,\n",
       " 244,\n",
       " 1364,\n",
       " 9026,\n",
       " 54,\n",
       " 134,\n",
       " 2,\n",
       " 5,\n",
       " 68,\n",
       " 2166,\n",
       " 1497,\n",
       " 68,\n",
       " 456,\n",
       " 19,\n",
       " 72,\n",
       " 36,\n",
       " 339,\n",
       " 72,\n",
       " 8,\n",
       " 4392,\n",
       " 61,\n",
       " 113,\n",
       " 5,\n",
       " 61,\n",
       " 649,\n",
       " 19,\n",
       " 61,\n",
       " 223,\n",
       " 10,\n",
       " 10,\n",
       " 4,\n",
       " 123,\n",
       " 1025,\n",
       " 111,\n",
       " 409,\n",
       " 2,\n",
       " 83,\n",
       " 4,\n",
       " 501,\n",
       " 7,\n",
       " 4,\n",
       " 6176,\n",
       " 5,\n",
       " 2672,\n",
       " 687,\n",
       " 15,\n",
       " 242,\n",
       " 2164,\n",
       " 68,\n",
       " 6644,\n",
       " 111,\n",
       " 7,\n",
       " 178,\n",
       " 2712,\n",
       " 88,\n",
       " 45,\n",
       " 99,\n",
       " 629,\n",
       " 8,\n",
       " 140,\n",
       " 145,\n",
       " 5,\n",
       " 81,\n",
       " 17,\n",
       " 2676,\n",
       " 3088,\n",
       " 560,\n",
       " 4,\n",
       " 3808,\n",
       " 5,\n",
       " 921,\n",
       " 5607,\n",
       " 7,\n",
       " 4,\n",
       " 882,\n",
       " 11,\n",
       " 4,\n",
       " 2267,\n",
       " 5,\n",
       " 955,\n",
       " 479,\n",
       " 7,\n",
       " 263,\n",
       " 1548,\n",
       " 4,\n",
       " 123,\n",
       " 1015,\n",
       " 6,\n",
       " 176,\n",
       " 7,\n",
       " 1109,\n",
       " 18,\n",
       " 33,\n",
       " 222,\n",
       " 397,\n",
       " 14,\n",
       " 1773,\n",
       " 645,\n",
       " 14,\n",
       " 7847,\n",
       " 9,\n",
       " 1350,\n",
       " 5,\n",
       " 878,\n",
       " 21,\n",
       " 290,\n",
       " 12,\n",
       " 38,\n",
       " 76,\n",
       " 9029,\n",
       " 7,\n",
       " 6644,\n",
       " 2615,\n",
       " 5,\n",
       " 701,\n",
       " 2615,\n",
       " 186,\n",
       " 8,\n",
       " 2754,\n",
       " 4,\n",
       " 5029,\n",
       " 1341,\n",
       " 400,\n",
       " 45,\n",
       " 5015,\n",
       " 15,\n",
       " 4,\n",
       " 6176,\n",
       " 43,\n",
       " 31,\n",
       " 251,\n",
       " 645,\n",
       " 8,\n",
       " 1258,\n",
       " 56,\n",
       " 42,\n",
       " 845,\n",
       " 18,\n",
       " 253,\n",
       " 42,\n",
       " 1742,\n",
       " 42,\n",
       " 532,\n",
       " 602,\n",
       " 5,\n",
       " 150,\n",
       " 36,\n",
       " 191,\n",
       " 570,\n",
       " 24,\n",
       " 38,\n",
       " 2,\n",
       " 26,\n",
       " 44,\n",
       " 880,\n",
       " 1460,\n",
       " 13,\n",
       " 70,\n",
       " 2198,\n",
       " 8,\n",
       " 4,\n",
       " 275,\n",
       " 687,\n",
       " 5,\n",
       " 2,\n",
       " 11,\n",
       " 2851,\n",
       " 456,\n",
       " 50,\n",
       " 26,\n",
       " 1141,\n",
       " 1326,\n",
       " 5,\n",
       " 1767,\n",
       " 5630,\n",
       " 111,\n",
       " 2,\n",
       " 28,\n",
       " 3117,\n",
       " 4309,\n",
       " 2569,\n",
       " 49,\n",
       " 362,\n",
       " 331,\n",
       " 8261,\n",
       " 913,\n",
       " 8,\n",
       " 4313,\n",
       " 8,\n",
       " 148,\n",
       " 37,\n",
       " 104,\n",
       " 15,\n",
       " 6644,\n",
       " 9,\n",
       " 35,\n",
       " 120,\n",
       " 2097,\n",
       " 8,\n",
       " 6,\n",
       " 2,\n",
       " 13,\n",
       " 62,\n",
       " 43,\n",
       " 135,\n",
       " 15,\n",
       " 275,\n",
       " 84,\n",
       " 8261,\n",
       " 5897,\n",
       " 261,\n",
       " 49,\n",
       " 362,\n",
       " 2885,\n",
       " 4313,\n",
       " 73,\n",
       " 409,\n",
       " 40,\n",
       " 2,\n",
       " 11,\n",
       " 4,\n",
       " 123,\n",
       " 8307,\n",
       " 11,\n",
       " 6,\n",
       " 7961,\n",
       " 23,\n",
       " 4,\n",
       " 1873,\n",
       " 5,\n",
       " 28,\n",
       " 68,\n",
       " 456,\n",
       " 1437,\n",
       " 1194,\n",
       " 34,\n",
       " 4,\n",
       " 1494,\n",
       " 10,\n",
       " 10,\n",
       " 18,\n",
       " 463,\n",
       " 236,\n",
       " 2,\n",
       " 2,\n",
       " 301,\n",
       " 15,\n",
       " 184,\n",
       " 185,\n",
       " 2,\n",
       " 4846,\n",
       " 2,\n",
       " 39,\n",
       " 349,\n",
       " 59,\n",
       " 2,\n",
       " 18,\n",
       " 2208,\n",
       " 18,\n",
       " 6,\n",
       " 5451,\n",
       " 291,\n",
       " 154,\n",
       " 3608,\n",
       " 5,\n",
       " 1625,\n",
       " 349,\n",
       " 2569,\n",
       " 41,\n",
       " 481,\n",
       " 1081,\n",
       " 8,\n",
       " 259,\n",
       " 4,\n",
       " 201,\n",
       " 9,\n",
       " 1061,\n",
       " 19,\n",
       " 1618,\n",
       " 15,\n",
       " 75,\n",
       " 70,\n",
       " 361,\n",
       " 8,\n",
       " 391,\n",
       " 263,\n",
       " 205,\n",
       " 4484,\n",
       " 5,\n",
       " 97,\n",
       " 2,\n",
       " 8,\n",
       " 263,\n",
       " 456,\n",
       " 400,\n",
       " 45,\n",
       " 148,\n",
       " 7,\n",
       " 178,\n",
       " 19,\n",
       " 4139,\n",
       " 1341,\n",
       " 37,\n",
       " 2712,\n",
       " 4,\n",
       " 6309,\n",
       " 17,\n",
       " 36,\n",
       " 135,\n",
       " 60,\n",
       " 6,\n",
       " 2230,\n",
       " 106,\n",
       " 9,\n",
       " 208,\n",
       " 1453,\n",
       " 6,\n",
       " 251,\n",
       " 21,\n",
       " 6,\n",
       " 550,\n",
       " 106,\n",
       " 70,\n",
       " 140,\n",
       " 2,\n",
       " 18,\n",
       " 179,\n",
       " 6,\n",
       " 137,\n",
       " 366,\n",
       " 45,\n",
       " 93,\n",
       " 129,\n",
       " 113,\n",
       " 4309,\n",
       " 10,\n",
       " 10,\n",
       " 8,\n",
       " 4,\n",
       " 1180,\n",
       " 1294,\n",
       " 25,\n",
       " 18,\n",
       " 231,\n",
       " 4,\n",
       " 123,\n",
       " 18,\n",
       " 7847,\n",
       " 83,\n",
       " 4,\n",
       " 501,\n",
       " 18,\n",
       " 4,\n",
       " 794,\n",
       " 1969,\n",
       " 82,\n",
       " 4,\n",
       " 2876,\n",
       " 4,\n",
       " 2718,\n",
       " 5,\n",
       " 4,\n",
       " 756,\n",
       " 228,\n",
       " 26,\n",
       " 530,\n",
       " 10,\n",
       " 10,\n",
       " 8,\n",
       " 4,\n",
       " 2,\n",
       " 1294,\n",
       " 25,\n",
       " 18,\n",
       " 129,\n",
       " 3158,\n",
       " 8,\n",
       " 1497,\n",
       " 726,\n",
       " 42,\n",
       " 24,\n",
       " 25,\n",
       " 28,\n",
       " 1678,\n",
       " 624,\n",
       " 25,\n",
       " 28,\n",
       " 1678,\n",
       " 72]"
      ]
     },
     "execution_count": 93,
     "metadata": {},
     "output_type": "execute_result"
    }
   ],
   "source": [
    "x_train[999]\n",
    "# 每一個數字都是一個字的編號\n",
    "# 有一萬個編號 一萬個字\n",
    "# 最常用的字 1 號\n",
    "# 但輸入的長度都不一樣"
   ]
  },
  {
   "cell_type": "code",
   "execution_count": 94,
   "metadata": {},
   "outputs": [
    {
     "data": {
      "text/plain": [
       "434"
      ]
     },
     "execution_count": 94,
     "metadata": {},
     "output_type": "execute_result"
    }
   ],
   "source": [
    "len(x_train[999])"
   ]
  },
  {
   "cell_type": "code",
   "execution_count": 95,
   "metadata": {},
   "outputs": [
    {
     "data": {
      "text/plain": [
       "1"
      ]
     },
     "execution_count": 95,
     "metadata": {},
     "output_type": "execute_result"
    }
   ],
   "source": [
    "y_train[999]\n",
    "# 1 就是正評"
   ]
  },
  {
   "cell_type": "code",
   "execution_count": 96,
   "metadata": {},
   "outputs": [],
   "source": [
    "from keras.preprocessing import sequence"
   ]
  },
  {
   "cell_type": "code",
   "execution_count": 97,
   "metadata": {},
   "outputs": [],
   "source": [
    "# 不用讀完一整則評論就可以判斷始不是負評\n",
    "\n",
    "x_train = sequence.pad_sequences(x_train, maxlen=100)\n",
    "x_test = sequence.pad_sequences(x_test, maxlen=100)"
   ]
  },
  {
   "cell_type": "code",
   "execution_count": null,
   "metadata": {},
   "outputs": [],
   "source": [
    "# 這樣處理方便\n",
    "# 但是原本不夠的話就都填 0 到 100 個字"
   ]
  },
  {
   "cell_type": "code",
   "execution_count": 98,
   "metadata": {},
   "outputs": [
    {
     "data": {
      "text/plain": [
       "(25000, 100)"
      ]
     },
     "execution_count": 98,
     "metadata": {},
     "output_type": "execute_result"
    }
   ],
   "source": [
    "x_train.shape"
   ]
  },
  {
   "cell_type": "code",
   "execution_count": null,
   "metadata": {},
   "outputs": [],
   "source": [
    "# 10000 維的 最後變成輸出 3 維的資料(就是三個神經元)\n",
    "# 10000 > 3\n",
    "# dense (1)"
   ]
  },
  {
   "cell_type": "code",
   "execution_count": 99,
   "metadata": {},
   "outputs": [],
   "source": [
    "from keras.models import Sequential\n",
    "from keras.layers import LSTM, Dense, Embedding"
   ]
  },
  {
   "cell_type": "code",
   "execution_count": 108,
   "metadata": {},
   "outputs": [],
   "source": [
    "model = Sequential()"
   ]
  },
  {
   "cell_type": "code",
   "execution_count": 109,
   "metadata": {},
   "outputs": [],
   "source": [
    "# 10000 維的 最後變成輸出 3 維的資料(就是三個神經元)\n",
    "model.add(Embedding(10000, 3))"
   ]
  },
  {
   "cell_type": "code",
   "execution_count": 110,
   "metadata": {},
   "outputs": [],
   "source": [
    "# 10 個神經元 (很多人設計壓成幾維就用幾個神經元接他)\n",
    "model.add(LSTM(20))"
   ]
  },
  {
   "cell_type": "code",
   "execution_count": 111,
   "metadata": {},
   "outputs": [],
   "source": [
    "model.add(Dense(1, activation='sigmoid'))"
   ]
  },
  {
   "cell_type": "code",
   "execution_count": 112,
   "metadata": {},
   "outputs": [],
   "source": [
    "## 組裝\n",
    "\n",
    "# gradient 可以改善 就是 learning rate 在斜率小(接近最低點) learning rate 下降 慢慢調；斜率大的時候 learning rate 大跳快一點\n",
    "# mometan(動量) 不要為了找附近最大的斜率改變太多方向 依據原本的方向微調就好\n",
    "\n",
    "model.compile(loss='binary_crossentropy', optimizer='adam', metrics=['accuracy'])"
   ]
  },
  {
   "cell_type": "code",
   "execution_count": 113,
   "metadata": {},
   "outputs": [
    {
     "name": "stdout",
     "output_type": "stream",
     "text": [
      "_________________________________________________________________\n",
      "Layer (type)                 Output Shape              Param #   \n",
      "=================================================================\n",
      "embedding_10 (Embedding)     (None, None, 3)           30000     \n",
      "_________________________________________________________________\n",
      "lstm_9 (LSTM)                (None, 20)                1920      \n",
      "_________________________________________________________________\n",
      "dense_10 (Dense)             (None, 1)                 21        \n",
      "=================================================================\n",
      "Total params: 31,941\n",
      "Trainable params: 31,941\n",
      "Non-trainable params: 0\n",
      "_________________________________________________________________\n"
     ]
    }
   ],
   "source": [
    "model.summary()"
   ]
  },
  {
   "cell_type": "code",
   "execution_count": 114,
   "metadata": {},
   "outputs": [],
   "source": [
    "# 輸入 3 + 10(神經元) 個輸入\n",
    "# (13*10 + 10)(10 個 bias)\n",
    "# 每個 都有 3 個 gate \n",
    "#　4*(13*10 + 10)"
   ]
  },
  {
   "cell_type": "code",
   "execution_count": 115,
   "metadata": {},
   "outputs": [
    {
     "name": "stdout",
     "output_type": "stream",
     "text": [
      "Epoch 1/5\n",
      "25000/25000 [==============================] - 139s 6ms/step - loss: 0.5164 - acc: 0.7181\n",
      "Epoch 2/5\n",
      "25000/25000 [==============================] - 138s 6ms/step - loss: 0.2940 - acc: 0.8796\n",
      "Epoch 3/5\n",
      "25000/25000 [==============================] - 136s 5ms/step - loss: 0.2363 - acc: 0.9092\n",
      "Epoch 4/5\n",
      "25000/25000 [==============================] - 139s 6ms/step - loss: 0.1999 - acc: 0.9265\n",
      "Epoch 5/5\n",
      "25000/25000 [==============================] - 145s 6ms/step - loss: 0.1763 - acc: 0.9365\n"
     ]
    },
    {
     "data": {
      "text/plain": [
       "<keras.callbacks.History at 0x19517a3ada0>"
      ]
     },
     "execution_count": 115,
     "metadata": {},
     "output_type": "execute_result"
    }
   ],
   "source": [
    "# train\n",
    "model.fit(x_train, y_train, batch_size=36, epochs=5)"
   ]
  },
  {
   "cell_type": "code",
   "execution_count": 116,
   "metadata": {},
   "outputs": [
    {
     "name": "stdout",
     "output_type": "stream",
     "text": [
      "25000/25000 [==============================] - 14s 566us/step\n"
     ]
    }
   ],
   "source": [
    "score = model.evaluate(x_test, y_test)"
   ]
  },
  {
   "cell_type": "code",
   "execution_count": 117,
   "metadata": {},
   "outputs": [
    {
     "data": {
      "text/plain": [
       "[0.4535219274520874, 0.83376]"
      ]
     },
     "execution_count": 117,
     "metadata": {},
     "output_type": "execute_result"
    }
   ],
   "source": [
    "score"
   ]
  },
  {
   "cell_type": "code",
   "execution_count": 118,
   "metadata": {},
   "outputs": [
    {
     "name": "stdout",
     "output_type": "stream",
     "text": [
      "loss=0.4535219274520874\n",
      "正確率=0.83376\n"
     ]
    }
   ],
   "source": [
    "print(f'loss={score[0]}')\n",
    "print(f'正確率={score[1]}')"
   ]
  },
  {
   "cell_type": "code",
   "execution_count": 45,
   "metadata": {},
   "outputs": [],
   "source": [
    "# 可能有 overfitted \n",
    "# 不要訓練那麼多次"
   ]
  },
  {
   "cell_type": "code",
   "execution_count": 119,
   "metadata": {},
   "outputs": [
    {
     "data": {
      "text/plain": [
       "array([   0,    0,    0,    0,    0,    0,    0,    0,    0,    0,    0,\n",
       "          0,    0,    0,    0,    0,    1, 4700, 2755, 5696,    2,   39,\n",
       "        658,   18,  701, 3383, 1007,   63,   26,  684,  532, 2472,   23,\n",
       "          4, 1320,   59,  461,    2,   19,    2, 1224, 5939, 1138, 2319,\n",
       "        323,    5, 6062, 4946,   21, 4595, 1002,    4,  552,    7,   20,\n",
       "         15,  100,   64,   28,   77,    2,   11,    4, 3141,  290,    6,\n",
       "        168,   18,   94,  701, 2063,  114,    5,   18,  402,  354,   34,\n",
       "        705,  381,   10,   10, 1332, 3473,  127,   24,  193,  245,   99,\n",
       "         76,   39,  360,    7,  509,   63,  287,   35,  221, 5228,    7,\n",
       "        113])"
      ]
     },
     "execution_count": 119,
     "metadata": {},
     "output_type": "execute_result"
    }
   ],
   "source": [
    "x_test[333]"
   ]
  },
  {
   "cell_type": "code",
   "execution_count": 120,
   "metadata": {},
   "outputs": [],
   "source": [
    "# 中文的 embedding 用字\n",
    "# 因為字太多了 詞的組合也太多"
   ]
  },
  {
   "cell_type": "code",
   "execution_count": null,
   "metadata": {},
   "outputs": [],
   "source": []
  },
  {
   "cell_type": "code",
   "execution_count": null,
   "metadata": {},
   "outputs": [],
   "source": []
  }
 ],
 "metadata": {
  "kernelspec": {
   "display_name": "Python 3",
   "language": "python",
   "name": "python3"
  },
  "language_info": {
   "codemirror_mode": {
    "name": "ipython",
    "version": 3
   },
   "file_extension": ".py",
   "mimetype": "text/x-python",
   "name": "python",
   "nbconvert_exporter": "python",
   "pygments_lexer": "ipython3",
   "version": "3.6.0"
  }
 },
 "nbformat": 4,
 "nbformat_minor": 2
}
