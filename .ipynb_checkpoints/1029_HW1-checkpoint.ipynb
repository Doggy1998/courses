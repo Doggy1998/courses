{
 "cells": [
  {
   "cell_type": "code",
   "execution_count": 1,
   "metadata": {},
   "outputs": [
    {
     "name": "stdout",
     "output_type": "stream",
     "text": [
      "辛苦的收銀員~顧客目前結多少錢~~\n",
      "顧客金額: 6000\n",
      "打 6 折\n",
      "此顧客應付金額為 3600 元\n",
      "\n",
      "辛苦的收銀員~顧客目前結多少錢~~\n",
      "顧客金額: 12000\n",
      "是我們貴氣的顧客~打 55 折\n",
      "此顧客應付金額為 6600 元\n",
      "\n",
      "辛苦的收銀員~顧客目前結多少錢~~\n",
      "顧客金額: 2000\n",
      "打 7 折\n",
      "此顧客應付金額為 1400 元\n",
      "\n",
      "辛苦的收銀員~顧客目前結多少錢~~\n",
      "顧客金額: 1500\n",
      "沒打折ㄝ\n",
      "此顧客應付金額為 1500 元\n",
      "\n",
      "辛苦的收銀員~顧客目前結多少錢~~\n",
      "顧客金額: 0\n",
      "下班囉~~辛苦了~~祝你好運\n"
     ]
    }
   ],
   "source": [
    "while True:\n",
    "    print(\"辛苦的收銀員~顧客目前結多少錢~~\")\n",
    "    total = input(\"顧客金額: \")\n",
    "    if (total.isdecimal()):\n",
    "        total = int(total)\n",
    "        if total == 0:\n",
    "            print(\"下班囉~~辛苦了~~祝你好運\")\n",
    "            break\n",
    "        if total >= 10000:\n",
    "            total = round(total*0.55)\n",
    "            print(\"是我們貴氣的顧客~打 55 折\")\n",
    "        elif total >= 5000:\n",
    "            total = round(total*0.6)\n",
    "            print(\"打 6 折\")\n",
    "        elif total >= 2000:\n",
    "            total = round(total*0.7)\n",
    "            print(\"打 7 折\")\n",
    "        else:\n",
    "            print(\"沒打折ㄝ\")\n",
    "        print(f\"此顧客應付金額為 {total} 元\\n\")\n",
    "\n",
    "        \n",
    "    else:\n",
    "        print(\"輸入格式有誤\")"
   ]
  }
 ],
 "metadata": {
  "kernelspec": {
   "display_name": "Python 3",
   "language": "python",
   "name": "python3"
  },
  "language_info": {
   "codemirror_mode": {
    "name": "ipython",
    "version": 3
   },
   "file_extension": ".py",
   "mimetype": "text/x-python",
   "name": "python",
   "nbconvert_exporter": "python",
   "pygments_lexer": "ipython3",
   "version": "3.6.0"
  }
 },
 "nbformat": 4,
 "nbformat_minor": 2
}
