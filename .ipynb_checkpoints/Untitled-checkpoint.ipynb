{
 "cells": [
  {
   "cell_type": "code",
   "execution_count": 4,
   "metadata": {},
   "outputs": [
    {
     "ename": "SyntaxError",
     "evalue": "invalid syntax (<ipython-input-4-edbe0d374519>, line 54)",
     "output_type": "error",
     "traceback": [
      "\u001b[1;36m  File \u001b[1;32m\"<ipython-input-4-edbe0d374519>\"\u001b[1;36m, line \u001b[1;32m54\u001b[0m\n\u001b[1;33m    if space = html[start:elementEnd].index(' ', start)!= -1:\u001b[0m\n\u001b[1;37m             ^\u001b[0m\n\u001b[1;31mSyntaxError\u001b[0m\u001b[1;31m:\u001b[0m invalid syntax\n"
     ]
    }
   ],
   "source": [
    "html = input(\"請輸入 html 的內容，或是輸入 default 由預設檔案示範\")\n",
    "default = \"\"\"<div class=\"carosel\">\n",
    "        <div data-pagination='{\"el\": \".swiper-pagination\"}' class=\"swiper-container swiper-init m-0 swipermultiple featured-restaurant\">\n",
    "            <div class=\"swiper-pagination\"></div>\n",
    "            <div class=\"swiper-wrapper\">\n",
    "                <div class=\"swiper-slide\">\n",
    "                    <label for=\"file1\">\n",
    "                        <img src=\"{% static 'images/add.png' %}\" alt=\"\" style=\"width:300px\" id=\"pic1\">\n",
    "                    </label>\n",
    "                </div>\n",
    "                <div class=\"swiper-slide\">\n",
    "                    <label for=\"file2\">\n",
    "                        <img src=\"{% static 'images/add.png' %}\" alt=\"\" style=\"width:300px\" id=\"pic2\">\n",
    "                        </label>\n",
    "                    </div>\n",
    "                <div class=\"swiper-slide\">\n",
    "                        <label for=\"file3\">\n",
    "                    <img src=\"{% static 'images/add.png' %}\" alt=\"\"  style=\"width:300px\" id=\"pic3\">\n",
    "                            </label>\n",
    "                </div>\n",
    "                <div class=\"swiper-slide\">\n",
    "                        <label for=\"file4\">\n",
    "                    <img src=\"{% static 'images/add.png' %}\" alt=\"\"  style=\"width:300px\" id=\"pic4\">\n",
    "                            </label>\n",
    "                </div>\n",
    "            </div>\n",
    "        </div></div>\"\"\"\n",
    "if html == \"default\":\n",
    "    print(default)\n",
    "    html = default\n",
    "    \n",
    "\n",
    "start = 0            \n",
    "tagList = []\n",
    "while(start<len(html)):\n",
    "    start = html.index('<', start)\n",
    "    elementEnd = html.index('>', start)\n",
    "    if html[start+1] == \"/\":\n",
    "        if html[start:elementEnd].index(' ', start)!= -1:\n",
    "            space = html[start:elementEnd].index(' ', start)\n",
    "            tag = html[start+1:space]\n",
    "        else:\n",
    "            tag = html[start+1:elementEnd]\n",
    "        if tag[-1] == tag:\n",
    "            del tag[-1]\n",
    "        else:\n",
    "            print(f\"Wrong start from index {start} inconsist with {tag}\")\n",
    "            break\n",
    "    else:\n",
    "        if (html[start:elementEnd].index('img')!=-1) or (html[start:elementEnd].index('br')!=-1):\n",
    "            pass\n",
    "        else:\n",
    "            space = html[start:elementEnd].index(' ', start)\n",
    "            if space!= -1:\n",
    "                tag = html[start+1:space]\n",
    "            else:\n",
    "                tag = html[start+1:elementEnd]\n",
    "            tagList.append(tag)\n",
    "            \n",
    "print(tagList)\n",
    "    \n",
    "            "
   ]
  }
 ],
 "metadata": {
  "kernelspec": {
   "display_name": "Python 3",
   "language": "python",
   "name": "python3"
  },
  "language_info": {
   "codemirror_mode": {
    "name": "ipython",
    "version": 3
   },
   "file_extension": ".py",
   "mimetype": "text/x-python",
   "name": "python",
   "nbconvert_exporter": "python",
   "pygments_lexer": "ipython3",
   "version": "3.6.0"
  }
 },
 "nbformat": 4,
 "nbformat_minor": 2
}
