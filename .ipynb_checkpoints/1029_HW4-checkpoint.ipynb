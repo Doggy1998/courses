{
 "cells": [
  {
   "cell_type": "code",
   "execution_count": 12,
   "metadata": {},
   "outputs": [
    {
     "name": "stdout",
     "output_type": "stream",
     "text": [
      "請輸入查詢的英文單字chocolate\n",
      "chocolate : 巧克力；巧克力糖\n",
      "例子:\n",
      "a bar of chocolate : 一條巧克力\n",
      "chocolate biscuits/mousse : 巧克力餅乾／慕斯\n",
      "milk/dark/white chocolate : 牛奶／黑／白巧克力\n",
      "I took her a box of chocolates. : 我給她帶了一盒巧克力糖。\n",
      "\n",
      "\n",
      "請輸入查詢的英文單字juice\n",
      "juice : （水果、蔬菜的）汁，液\n",
      "例子:\n",
      "orange/lemon/grapefruit/carrot juice : 柳橙／檸檬／葡萄／胡蘿蔔汁\n",
      "a carton of apple juice : 一盒蘋果汁\n",
      "\n",
      "\n",
      "請輸入查詢的英文單字bye\n",
      "bye : 再見\n",
      "例子:\n",
      "Bye! See you next week! : 再見！下週見！\n",
      "\n",
      "\n",
      "請輸入查詢的英文單字stop\n",
      "byebye~Good luck!\n"
     ]
    }
   ],
   "source": [
    "from bs4 import BeautifulSoup\n",
    "\n",
    "import urllib.request\n",
    "\n",
    "\n",
    "def getMsg(query):\n",
    "    page = urllib.request.urlopen(f\"https://dictionary.cambridge.org/zht/%E8%A9%9E%E5%85%B8/%E8%8B%B1%E8%AA%9E-%E6%BC%A2%E8%AA%9E-%E7%B9%81%E9%AB%94/{query}\")\n",
    "    mybytes = page.read()\n",
    "\n",
    "    mystr = mybytes.decode(\"utf8\")\n",
    "    page.close()\n",
    "    \n",
    "    soup = BeautifulSoup(mystr, 'html.parser')\n",
    "    # print(soup)\n",
    "    # print(mystr)\n",
    "    \n",
    "    block = soup.find(\"div\", {\"class\": \"def-body ddef_b\"})\n",
    "    span = block.findChild(\"span\" , recursive=False)\n",
    "    examples = block.findChildren(\"span\", {\"class\": \"eg deg\"}, recursive=True)\n",
    "    meanings = block.findChildren(\"span\", {\"class\": \"trans dtrans dtrans-se hdb\"}, recursive=True)\n",
    "    print(f\"{query} : {span.text}\")\n",
    "    print(\"例子:\")\n",
    "    for i, v in enumerate(examples):\n",
    "        print(f\"{v.text} : {meanings[i].text}\")\n",
    "    print(\"\\n\")\n",
    "\n",
    "while True:\n",
    "    \n",
    "    query = input(\"請輸入查詢的英文單字\")\n",
    "    if query == \"stop\":\n",
    "        print(\"byebye~Good luck!\")\n",
    "        break\n",
    "    getMsg(query)"
   ]
  }
 ],
 "metadata": {
  "kernelspec": {
   "display_name": "Python 3",
   "language": "python",
   "name": "python3"
  },
  "language_info": {
   "codemirror_mode": {
    "name": "ipython",
    "version": 3
   },
   "file_extension": ".py",
   "mimetype": "text/x-python",
   "name": "python",
   "nbconvert_exporter": "python",
   "pygments_lexer": "ipython3",
   "version": "3.6.0"
  }
 },
 "nbformat": 4,
 "nbformat_minor": 2
}
