{
 "cells": [
  {
   "cell_type": "code",
   "execution_count": null,
   "metadata": {},
   "outputs": [],
   "source": [
    "while True:\n",
    "    name = input(\"同學您好，請輸入您的姓名:\")\n",
    "    department = input(\"請輸入您的系級\")\n",
    "    number = input(\"請輸入您的學號：\")\n",
    "\n",
    "    reminder = (\"{} {} 同學您好，這是一份有關網路使用行為的調查量表，主要的內容是想瞭解\"\n",
    "        \"您上網的情形。請您花幾分鐘的時間填寫，在此謝謝您的參與和協助!請問您準備好要開始\"\n",
    "        \"了嗎？請輸入Y (代表Yes)or N (代表No)：\").format(department, name)\n",
    "    a = input(reminder)\n",
    "    if len(a) != 1:\n",
    "        print(\"無效回應，請重新執行程式><\")\n",
    "        break\n",
    "    elif a == \"Y\":\n",
    "        print(\"耶耶感謝你！題目準備開始\")\n",
    "        print(\"=\"*50)\n",
    "        b = input(\"這半年以來，您是否有使用電腦網路?是請填1，否請填2\")\n",
    "        if len(b) == 1:\n",
    "            if b == \"1\":\n",
    "                print(\"請繼續作答\")\n",
    "                print(\"下面是一些有關個人使用網路情況的描述請評估您目前的實際情形是否與句中的描述一致並輸入數字到該頁面中。由1至4，數字越大，表示句中所描述的情形與目前您實際的情形愈符合\")\n",
    "\n",
    "            elif b == \"2\":\n",
    "                print(\"您不符合本問卷需求，請停止作答\")\n",
    "                a = \"@\"\n",
    "                break\n",
    "            else:\n",
    "                \n",
    "                a = \"N\"\n",
    "                print(\"無效回應，請重新執行程式><\")\n",
    "                break\n",
    "\n",
    "    elif a == \"N\":\n",
    "        print(\"嗚嗚我們下次見\")\n",
    "        break\n",
    "    elif a == \"@\":\n",
    "        print(\"謝謝您的參與！祝您平安喜樂！\")\n",
    "    else:\n",
    "        print(\"無效回應，請重新執行程式\")\n",
    "        break\n"
   ]
  }
 ],
 "metadata": {
  "kernelspec": {
   "display_name": "Python 3",
   "language": "python",
   "name": "python3"
  },
  "language_info": {
   "codemirror_mode": {
    "name": "ipython",
    "version": 3
   },
   "file_extension": ".py",
   "mimetype": "text/x-python",
   "name": "python",
   "nbconvert_exporter": "python",
   "pygments_lexer": "ipython3",
   "version": "3.6.0"
  }
 },
 "nbformat": 4,
 "nbformat_minor": 2
}
