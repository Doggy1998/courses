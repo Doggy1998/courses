{
 "cells": [
  {
   "cell_type": "code",
   "execution_count": null,
   "metadata": {},
   "outputs": [],
   "source": [
    "print(\"幫你算出你的成績，轉換成 GPA 喔!祝你推甄超順利!\")\n",
    "\n",
    "\n",
    "total = 0\n",
    "amount = 0\n",
    "while True:\n",
    "    grade = input(\"請輸入成績: \")\n",
    "    credit = input(\"請輸入此科的學分數:\")\n",
    "    total = total + float(grade)*int(credit)\n",
    "    amount = amount + int(credit)\n",
    "    go = input(\"是否繼續輸入\")\n",
    "    print()\n",
    "    if go == \"是\":\n",
    "        pass\n",
    "    else:\n",
    "        break\n",
    "\n",
    "avg = total/amount\n",
    "if avg >= 90:\n",
    "    print(\"你的成績: %f 等第: %s GP: %f\" % (avg, \"A+\", 4.3))\n",
    "elif avg >= 85:\n",
    "    print(\"你的成績: %f 等第: %s GP: %f\" % (avg, \"A\", 4.0))\n",
    "elif avg >= 80:\n",
    "    print(\"你的成績: %f 等第: %s GP: %f\" % (avg, \"A-\", 3.7))\n",
    "elif avg >= 77:\n",
    "    print(\"你的成績: %f 等第: %s GP: %f\" % (avg, \"B+\", 3.3))\n",
    "elif avg >= 73:\n",
    "    print(\"你的成績: %f 等第: %s GP: %f\" % (avg, \"B\", 3.0))\n",
    "\n",
    "elif avg >= 70:\n",
    "    print(\"你的成績: %f 等第: %s GP: %f\" % (avg, \"B-\", 2.7))\n",
    "\n",
    "elif avg >= 67:\n",
    "    print(\"你的成績: %f 等第: %s GP: %f\" % (avg, \"C+\", 2.3))\n",
    "elif avg >= 63:\n",
    "    print(\"你的成績: %f 等第: %s GP: %f\" % (avg, \"C\", 2.0))\n",
    "\n",
    "elif avg >= 60:\n",
    "    print(\"你的成績: %f 等第: %s GP: %f\" % (avg, \"C-\", 1.7))\n",
    "elif avg >= 50:\n",
    "    print(\"你的成績: %f 等第: %s GP: %f\" % (avg, \"D\", 1.0))\n",
    "elif avg >= 1:\n",
    "    print(\"你的成績: %f 等第: %s GP: %f\" % (avg, \"E\", 0.0))\n",
    "else:\n",
    "    print(\"你的成績: %f 等第: %s GP: %f\" % (avg, \"X\", 0.0))\n"
   ]
  }
 ],
 "metadata": {
  "kernelspec": {
   "display_name": "Python 3",
   "language": "python",
   "name": "python3"
  },
  "language_info": {
   "codemirror_mode": {
    "name": "ipython",
    "version": 3
   },
   "file_extension": ".py",
   "mimetype": "text/x-python",
   "name": "python",
   "nbconvert_exporter": "python",
   "pygments_lexer": "ipython3",
   "version": "3.6.0"
  }
 },
 "nbformat": 4,
 "nbformat_minor": 2
}
