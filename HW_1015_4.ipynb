{
 "cells": [
  {
   "cell_type": "code",
   "execution_count": 3,
   "metadata": {},
   "outputs": [
    {
     "name": "stdout",
     "output_type": "stream",
     "text": [
      "What is your favorite food? chocolate\n",
      "How much does chocolate cost to get one? 49\n",
      "What do you want to buy but you have not bought it? lipstick\n",
      "How much does lipstick cost? 390\n",
      "Just save 8 chocolates then you can buy your dreaming lipstick\n"
     ]
    }
   ],
   "source": [
    "import math\n",
    "\n",
    "item = input(\"What is your favorite food? \")\n",
    "price = input(f\"How much does {item} cost to get one? \")\n",
    "goal = input(\"What do you want to buy but you have not bought it? \")\n",
    "goalPrice = input(f\"How much does {goal} cost? \")\n",
    "amount = math.ceil(float(goalPrice)/float(price))\n",
    "\n",
    "\n",
    "print(f\"Just save {amount} {item}s then you can buy your dreaming {goal}\")"
   ]
  }
 ],
 "metadata": {
  "kernelspec": {
   "display_name": "Python 3",
   "language": "python",
   "name": "python3"
  },
  "language_info": {
   "codemirror_mode": {
    "name": "ipython",
    "version": 3
   },
   "file_extension": ".py",
   "mimetype": "text/x-python",
   "name": "python",
   "nbconvert_exporter": "python",
   "pygments_lexer": "ipython3",
   "version": "3.6.0"
  }
 },
 "nbformat": 4,
 "nbformat_minor": 2
}
