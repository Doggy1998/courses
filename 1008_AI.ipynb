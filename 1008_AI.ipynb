{
 "cells": [
  {
   "cell_type": "code",
   "execution_count": 1,
   "metadata": {},
   "outputs": [
    {
     "name": "stdout",
     "output_type": "stream",
     "text": [
      "env: KERAS_BACKEND=tensorflow\n",
      "ok\n"
     ]
    }
   ],
   "source": [
    "%matplotlib inline\n",
    "%env KERAS_BACKEND=tensorflow\n",
    "import numpy as np\n",
    "import matplotlib.pyplot as plt\n",
    "import pandas as pd\n",
    "\n",
    "print(\"ok\")"
   ]
  },
  {
   "cell_type": "code",
   "execution_count": 2,
   "metadata": {},
   "outputs": [
    {
     "name": "stderr",
     "output_type": "stream",
     "text": [
      "Using TensorFlow backend.\n"
     ]
    }
   ],
   "source": [
    "from keras.datasets import mnist\n",
    "\n",
    "from keras.datasets import mnist\n",
    "from keras.utils import np_utils\n",
    "from keras.models import Sequential\n",
    "from keras.layers import Dense, Activation\n",
    "from keras.optimizers import SGD"
   ]
  },
  {
   "cell_type": "code",
   "execution_count": 3,
   "metadata": {},
   "outputs": [],
   "source": [
    "(x_train, y_train), (x_test, y_test) = mnist.load_data()"
   ]
  },
  {
   "cell_type": "code",
   "execution_count": 4,
   "metadata": {},
   "outputs": [],
   "source": [
    "x_train = x_train/255\n",
    "x_test = x_test/255"
   ]
  },
  {
   "cell_type": "code",
   "execution_count": 5,
   "metadata": {},
   "outputs": [],
   "source": [
    "from keras.utils import np_utils"
   ]
  },
  {
   "cell_type": "code",
   "execution_count": 6,
   "metadata": {},
   "outputs": [],
   "source": [
    "y_train = np_utils.to_categorical(y_train, 10)\n",
    "y_test = np_utils.to_categorical(y_test, 10)"
   ]
  },
  {
   "cell_type": "code",
   "execution_count": 7,
   "metadata": {},
   "outputs": [
    {
     "data": {
      "text/plain": [
       "array([0., 0., 0., 0., 1., 0., 0., 0., 0., 0.], dtype=float32)"
      ]
     },
     "execution_count": 7,
     "metadata": {},
     "output_type": "execute_result"
    }
   ],
   "source": [
    "y_train[9]"
   ]
  },
  {
   "cell_type": "code",
   "execution_count": 8,
   "metadata": {},
   "outputs": [],
   "source": [
    "from keras.models import Sequential\n",
    "\n",
    "# 矩陣拉平\n",
    "from keras.layers import Dense, Flatten\n",
    "\n",
    "# 抽樣的時候不按照順序\n",
    "from keras.optimizers import SGD"
   ]
  },
  {
   "cell_type": "code",
   "execution_count": 29,
   "metadata": {},
   "outputs": [],
   "source": [
    "model = Sequential()"
   ]
  },
  {
   "cell_type": "code",
   "execution_count": 30,
   "metadata": {},
   "outputs": [],
   "source": [
    "model.add(Flatten(input_shape=(28, 28)))"
   ]
  },
  {
   "cell_type": "code",
   "execution_count": 31,
   "metadata": {},
   "outputs": [],
   "source": [
    "model.add(Dense(10, activation=\"relu\"))\n"
   ]
  },
  {
   "cell_type": "code",
   "execution_count": 32,
   "metadata": {},
   "outputs": [],
   "source": [
    "model.add(Dense(8, activation=\"relu\"))"
   ]
  },
  {
   "cell_type": "code",
   "execution_count": 33,
   "metadata": {},
   "outputs": [],
   "source": [
    "model.add(Dense(5, activation=\"relu\"))"
   ]
  },
  {
   "cell_type": "code",
   "execution_count": 34,
   "metadata": {},
   "outputs": [],
   "source": [
    "# 結果輸出層\n",
    "model.add(Dense(10, activation=\"softmax\"))"
   ]
  },
  {
   "cell_type": "code",
   "execution_count": 35,
   "metadata": {},
   "outputs": [],
   "source": [
    "model.compile(loss='mse', optimizer=SGD(lr=0.77), metrics=['accuracy'])"
   ]
  },
  {
   "cell_type": "code",
   "execution_count": 36,
   "metadata": {},
   "outputs": [
    {
     "name": "stdout",
     "output_type": "stream",
     "text": [
      "_________________________________________________________________\n",
      "Layer (type)                 Output Shape              Param #   \n",
      "=================================================================\n",
      "flatten_3 (Flatten)          (None, 784)               0         \n",
      "_________________________________________________________________\n",
      "dense_9 (Dense)              (None, 10)                7850      \n",
      "_________________________________________________________________\n",
      "dense_10 (Dense)             (None, 8)                 88        \n",
      "_________________________________________________________________\n",
      "dense_11 (Dense)             (None, 5)                 45        \n",
      "_________________________________________________________________\n",
      "dense_12 (Dense)             (None, 10)                60        \n",
      "=================================================================\n",
      "Total params: 8,043\n",
      "Trainable params: 8,043\n",
      "Non-trainable params: 0\n",
      "_________________________________________________________________\n"
     ]
    }
   ],
   "source": [
    "model.summary()"
   ]
  },
  {
   "cell_type": "code",
   "execution_count": 37,
   "metadata": {},
   "outputs": [
    {
     "data": {
      "text/plain": [
       "4710"
      ]
     },
     "execution_count": 37,
     "metadata": {},
     "output_type": "execute_result"
    }
   ],
   "source": [
    "# 4710 para\n",
    "# 784 連到 6 個神經元 加六個 bias\n",
    "784*6 + 6"
   ]
  },
  {
   "cell_type": "code",
   "execution_count": 38,
   "metadata": {},
   "outputs": [
    {
     "name": "stdout",
     "output_type": "stream",
     "text": [
      "Epoch 1/25\n",
      "60000/60000 [==============================] - 3s 53us/step - loss: 0.0748 - acc: 0.3658\n",
      "Epoch 2/25\n",
      "60000/60000 [==============================] - 2s 41us/step - loss: 0.0417 - acc: 0.7183\n",
      "Epoch 3/25\n",
      "60000/60000 [==============================] - 2s 42us/step - loss: 0.0241 - acc: 0.8445\n",
      "Epoch 4/25\n",
      "60000/60000 [==============================] - 3s 43us/step - loss: 0.0190 - acc: 0.8767\n",
      "Epoch 5/25\n",
      "60000/60000 [==============================] - 2s 41us/step - loss: 0.0170 - acc: 0.8898\n",
      "Epoch 6/25\n",
      "60000/60000 [==============================] - 3s 43us/step - loss: 0.0159 - acc: 0.8962\n",
      "Epoch 7/25\n",
      "60000/60000 [==============================] - 2s 41us/step - loss: 0.0151 - acc: 0.9015\n",
      "Epoch 8/25\n",
      "60000/60000 [==============================] - 2s 41us/step - loss: 0.0146 - acc: 0.9053\n",
      "Epoch 9/25\n",
      "60000/60000 [==============================] - 2s 42us/step - loss: 0.0141 - acc: 0.9092\n",
      "Epoch 10/25\n",
      "60000/60000 [==============================] - 3s 42us/step - loss: 0.0138 - acc: 0.9107\n",
      "Epoch 11/25\n",
      "60000/60000 [==============================] - 2s 41us/step - loss: 0.0135 - acc: 0.9129\n",
      "Epoch 12/25\n",
      "60000/60000 [==============================] - 2s 41us/step - loss: 0.0133 - acc: 0.9151\n",
      "Epoch 13/25\n",
      "60000/60000 [==============================] - 3s 45us/step - loss: 0.0131 - acc: 0.9168\n",
      "Epoch 14/25\n",
      "60000/60000 [==============================] - 3s 50us/step - loss: 0.0130 - acc: 0.9166\n",
      "Epoch 15/25\n",
      "60000/60000 [==============================] - 3s 42us/step - loss: 0.0127 - acc: 0.9182\n",
      "Epoch 16/25\n",
      "60000/60000 [==============================] - 3s 44us/step - loss: 0.0124 - acc: 0.9209\n",
      "Epoch 17/25\n",
      "60000/60000 [==============================] - 3s 48us/step - loss: 0.0122 - acc: 0.9223\n",
      "Epoch 18/25\n",
      "60000/60000 [==============================] - 3s 49us/step - loss: 0.0122 - acc: 0.9222\n",
      "Epoch 19/25\n",
      "60000/60000 [==============================] - 3s 51us/step - loss: 0.0121 - acc: 0.9227\n",
      "Epoch 20/25\n",
      "60000/60000 [==============================] - 3s 45us/step - loss: 0.0120 - acc: 0.9242\n",
      "Epoch 21/25\n",
      "60000/60000 [==============================] - 3s 47us/step - loss: 0.0119 - acc: 0.9246\n",
      "Epoch 22/25\n",
      "60000/60000 [==============================] - 3s 46us/step - loss: 0.0118 - acc: 0.9244\n",
      "Epoch 23/25\n",
      "60000/60000 [==============================] - 3s 46us/step - loss: 0.0117 - acc: 0.9258\n",
      "Epoch 24/25\n",
      "60000/60000 [==============================] - 3s 47us/step - loss: 0.0115 - acc: 0.9265\n",
      "Epoch 25/25\n",
      "60000/60000 [==============================] - 3s 47us/step - loss: 0.0116 - acc: 0.9267\n"
     ]
    },
    {
     "data": {
      "text/plain": [
       "<keras.callbacks.History at 0x22fa149acc0>"
      ]
     },
     "execution_count": 38,
     "metadata": {},
     "output_type": "execute_result"
    }
   ],
   "source": [
    "\n",
    "# batch_size 幾筆資料就調參數對答案\n",
    "# 全部資料要學幾次\n",
    "\n",
    "model.fit(x_train, y_train, batch_size=70, epochs=25)"
   ]
  },
  {
   "cell_type": "code",
   "execution_count": 44,
   "metadata": {},
   "outputs": [],
   "source": [
    "from ipywidgets import interact_manual"
   ]
  },
  {
   "cell_type": "code",
   "execution_count": 45,
   "metadata": {},
   "outputs": [],
   "source": [
    "predict = model.predict(x_test)"
   ]
  },
  {
   "cell_type": "code",
   "execution_count": 46,
   "metadata": {},
   "outputs": [
    {
     "data": {
      "text/plain": [
       "array([0.09878769, 0.11118805, 0.09930426, 0.10185025, 0.09763751,\n",
       "       0.09172875, 0.09871791, 0.10384988, 0.09775224, 0.09918345],\n",
       "      dtype=float32)"
      ]
     },
     "execution_count": 46,
     "metadata": {},
     "output_type": "execute_result"
    }
   ],
   "source": [
    "predict[1234]\n"
   ]
  },
  {
   "cell_type": "code",
   "execution_count": 48,
   "metadata": {},
   "outputs": [],
   "source": [
    "predict = model.predict_classes(x_test)"
   ]
  },
  {
   "cell_type": "code",
   "execution_count": 49,
   "metadata": {},
   "outputs": [
    {
     "data": {
      "text/plain": [
       "1"
      ]
     },
     "execution_count": 49,
     "metadata": {},
     "output_type": "execute_result"
    }
   ],
   "source": [
    "predict[1234]"
   ]
  },
  {
   "cell_type": "code",
   "execution_count": 50,
   "metadata": {},
   "outputs": [
    {
     "data": {
      "text/plain": [
       "array([0., 0., 0., 0., 0., 0., 0., 0., 1., 0.], dtype=float32)"
      ]
     },
     "execution_count": 50,
     "metadata": {},
     "output_type": "execute_result"
    }
   ],
   "source": [
    "y_test[1234]"
   ]
  },
  {
   "cell_type": "code",
   "execution_count": 53,
   "metadata": {},
   "outputs": [],
   "source": [
    "def test(no):\n",
    "    plt.imshow(x_test[no], cmap=\"Blues\")\n",
    "    print(\"We predict\", predict[no])"
   ]
  },
  {
   "cell_type": "code",
   "execution_count": 54,
   "metadata": {},
   "outputs": [
    {
     "name": "stdout",
     "output_type": "stream",
     "text": [
      "We predict 1\n"
     ]
    },
    {
     "data": {
      "image/png": "[encoded data removed]",
      "text/plain": [
       "<Figure size 432x288 with 1 Axes>"
      ]
     },
     "metadata": {
      "needs_background": "light"
     },
     "output_type": "display_data"
    }
   ],
   "source": [
    "test(123)"
   ]
  },
  {
   "cell_type": "code",
   "execution_count": 55,
   "metadata": {},
   "outputs": [
    {
     "data": {
      "application/vnd.jupyter.widget-view+json": {
       "model_id": "d61c414d1d0042cc9eccfa723353c988",
       "version_major": 2,
       "version_minor": 0
      },
      "text/plain": [
       "interactive(children=(IntSlider(value=4999, description='no', max=9999), Button(description='Run Interact', st…"
      ]
     },
     "metadata": {},
     "output_type": "display_data"
    },
    {
     "data": {
      "text/plain": [
       "<function __main__.test(no)>"
      ]
     },
     "execution_count": 55,
     "metadata": {},
     "output_type": "execute_result"
    }
   ],
   "source": [
    "interact_manual(test, no=(0, 9999))"
   ]
  },
  {
   "cell_type": "code",
   "execution_count": 56,
   "metadata": {},
   "outputs": [
    {
     "name": "stdout",
     "output_type": "stream",
     "text": [
      "10000/10000 [==============================] - 1s 65us/step\n"
     ]
    }
   ],
   "source": [
    "score = model.evaluate(x_test, y_test)"
   ]
  },
  {
   "cell_type": "code",
   "execution_count": 57,
   "metadata": {},
   "outputs": [
    {
     "data": {
      "text/plain": [
       "0.1135"
      ]
     },
     "execution_count": 57,
     "metadata": {},
     "output_type": "execute_result"
    }
   ],
   "source": [
    "score[1]"
   ]
  },
  {
   "cell_type": "code",
   "execution_count": 58,
   "metadata": {},
   "outputs": [],
   "source": [
    "model_json = model.to_json()\n",
    "open('stupid_model.json', 'w').write(model_json)\n",
    "model.save_weights('stupid_model_weights.h5')"
   ]
  },
  {
   "cell_type": "code",
   "execution_count": null,
   "metadata": {},
   "outputs": [],
   "source": []
  },
  {
   "cell_type": "code",
   "execution_count": null,
   "metadata": {},
   "outputs": [],
   "source": []
  }
 ],
 "metadata": {
  "kernelspec": {
   "display_name": "Python 3",
   "language": "python",
   "name": "python3"
  },
  "language_info": {
   "codemirror_mode": {
    "name": "ipython",
    "version": 3
   },
   "file_extension": ".py",
   "mimetype": "text/x-python",
   "name": "python",
   "nbconvert_exporter": "python",
   "pygments_lexer": "ipython3",
   "version": "3.6.0"
  }
 },
 "nbformat": 4,
 "nbformat_minor": 2
}
